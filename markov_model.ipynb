{
 "cells": [
  {
   "cell_type": "code",
   "execution_count": 2,
   "id": "45e70a22-2eb2-4d94-bd62-3cbe63d396e6",
   "metadata": {},
   "outputs": [
    {
     "name": "stdout",
     "output_type": "stream",
     "text": [
      "\n",
      "Sample Markov Chain Transition Matrix (first 5 states):\n",
      "Clear: {'Clear': 0.8181818181818182, 'Partially cloudy': 0.18181818181818182}\n",
      "Partially cloudy: {'Clear': 0.6666666666666666, 'Partially cloudy': 0.3333333333333333}\n",
      "\n",
      "Simulated Weather Data (first 10 days):\n",
      "   day         condition  temperature  humidity  rain  thunder\n",
      "0    1             Clear         21.1      55.4     7    False\n",
      "1    2             Clear         20.4      51.4     3    False\n",
      "2    3  Partially cloudy         20.9      51.3     3    False\n",
      "3    4             Clear         19.9      55.6     6    False\n",
      "4    5             Clear         20.3      61.2     5    False\n",
      "5    6             Clear         20.3      51.3     2    False\n",
      "6    7             Clear         20.1      59.7     4    False\n",
      "7    8  Partially cloudy         20.9      66.5     5    False\n",
      "8    9  Partially cloudy         19.6      54.4     5     True\n",
      "9   10  Partially cloudy         21.0      55.9     4    False\n"
     ]
    }
   ],
   "source": [
    "\n",
    "import pandas as pd\n",
    "import numpy as np\n",
    "import random\n",
    "\n",
    "df = pd.read_csv(\"dehradun_weather_processed.csv\")\n",
    "condition = df[\"condition_text\"].tolist()\n",
    "\n",
    "states = list(set(condition))\n",
    "transition_counts = {s: {s2: 0 for s2 in states} for s in states}\n",
    "\n",
    "for today, tomorrow in zip(condition[:-1], condition[1:]):\n",
    "    transition_counts[today][tomorrow] += 1\n",
    "transition_matrix = {}\n",
    "for s in states:\n",
    "    total = sum(transition_counts[s].values())\n",
    "    transition_matrix[s] = {s2: transition_counts[s][s2]/total if total>0 else 0 for s2 in states}\n",
    "\n",
    "print(\"\\nSample Markov Chain Transition Matrix (first 5 states):\")\n",
    "for s in list(transition_matrix.keys())[:5]:\n",
    "    print(f\"{s}: {transition_matrix[s]}\")\n",
    "mean_temp = np.mean(df[\"temperature_celsius\"])\n",
    "std_temp = np.std(df[\"temperature_celsius\"])\n",
    "mean_humidity = np.mean(df[\"humidity\"])\n",
    "std_humidity = np.std(df[\"humidity\"])\n",
    "lam_rain_events = max(0.5, np.mean(df[\"wind_kph\"]))\n",
    "storm_prob = 0.1\n",
    "\n",
    "num_days = 30\n",
    "weather_data = []\n",
    "current_state = random.choice(states)\n",
    "\n",
    "for day in range(num_days):\n",
    "    temp = np.random.normal(mean_temp, std_temp)\n",
    "    hum = np.random.normal(mean_humidity, std_humidity)\n",
    "    rain = np.random.poisson(lam_rain_events)\n",
    "    thunder = np.random.binomial(1, storm_prob)\n",
    "    \n",
    "    weather_data.append({\n",
    "        \"day\": day+1,\n",
    "        \"condition\": current_state,\n",
    "        \"temperature\": round(temp,1),\n",
    "        \"humidity\": round(hum,1),\n",
    "        \"rain\": rain,\n",
    "        \"thunder\": bool(thunder)\n",
    "    })\n",
    "    \n",
    "    next_states = list(transition_matrix[current_state].keys())\n",
    "    probs = list(transition_matrix[current_state].values())\n",
    "    current_state = random.choices(next_states, weights=probs, k=1)[0]\n",
    "\n",
    "sim_df = pd.DataFrame(weather_data)\n",
    "print(\"\\nSimulated Weather Data (first 10 days):\")\n",
    "print(sim_df.head(10))"
   ]
  },
  {
   "cell_type": "code",
   "execution_count": 3,
   "id": "4bfb065f-8f59-4a27-a58c-cf29550bba17",
   "metadata": {},
   "outputs": [
    {
     "name": "stdout",
     "output_type": "stream",
     "text": [
      "🌧 Rain Event Summary:\n",
      "Total Rain Days       : 29\n",
      "Total Rainfall        : 129\n",
      "Average Rain (Rainy Days) : 4.45\n",
      "Rain Probability      : 96.67%\n",
      "Longest Rainy Streak  : 17 days\n",
      "Thunderstorm Days     : 3\n"
     ]
    }
   ],
   "source": [
    "\n",
    "total_rain_days = (sim_df['rain'] > 0).sum()\n",
    "\n",
    "total_rainfall = sim_df['rain'].sum()\n",
    "\n",
    "if total_rain_days > 0:\n",
    "    avg_rain_rainy_days = sim_df.loc[sim_df['rain'] > 0, 'rain'].mean()\n",
    "else:\n",
    "    avg_rain_rainy_days = 0\n",
    "\n",
    "rain_probability = total_rain_days / len(sim_df)\n",
    "\n",
    "longest_streak = 0\n",
    "current_streak = 0\n",
    "for rain in sim_df['rain']:\n",
    "    if rain > 0:\n",
    "        current_streak += 1\n",
    "        longest_streak = max(longest_streak, current_streak)\n",
    "    else:\n",
    "        current_streak = 0\n",
    "\n",
    "thunder_days = sim_df['thunder'].sum()\n",
    "\n",
    "print(\"🌧 Rain Event Summary:\")\n",
    "print(f\"Total Rain Days       : {total_rain_days}\")\n",
    "print(f\"Total Rainfall        : {total_rainfall}\")\n",
    "print(f\"Average Rain (Rainy Days) : {avg_rain_rainy_days:.2f}\")\n",
    "print(f\"Rain Probability      : {rain_probability:.2%}\")\n",
    "print(f\"Longest Rainy Streak  : {longest_streak} days\")\n",
    "print(f\"Thunderstorm Days     : {thunder_days}\")\n"
   ]
  },
  {
   "cell_type": "code",
   "execution_count": null,
   "id": "3dff62d5-ab71-4ae1-9136-3d831b2fe9a1",
   "metadata": {},
   "outputs": [],
   "source": []
  }
 ],
 "metadata": {
  "kernelspec": {
   "display_name": "Python 3 (ipykernel)",
   "language": "python",
   "name": "python3"
  },
  "language_info": {
   "codemirror_mode": {
    "name": "ipython",
    "version": 3
   },
   "file_extension": ".py",
   "mimetype": "text/x-python",
   "name": "python",
   "nbconvert_exporter": "python",
   "pygments_lexer": "ipython3",
   "version": "3.11.2"
  }
 },
 "nbformat": 4,
 "nbformat_minor": 5
}
