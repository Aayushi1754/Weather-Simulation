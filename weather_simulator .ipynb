{
 "cells": [
  {
   "cell_type": "code",
   "execution_count": 10,
   "id": "42c100d2-b32f-43c7-b72e-667609dd989b",
   "metadata": {},
   "outputs": [
    {
     "name": "stdout",
     "output_type": "stream",
     "text": [
      "Data loaded successfully. Sample:\n",
      "         date  temperature_celsius  humidity  wind_kph condition_text\n",
      "0  2025-10-25                20.94      60.6       5.6          Clear\n",
      "1  2025-10-26                20.78      62.6       5.4          Clear\n",
      "2  2025-10-27                20.72      60.9       5.1          Clear\n",
      "3  2025-10-28                20.44      61.6       5.1          Clear\n",
      "4  2025-10-29                20.56      55.6       4.9          Clear\n",
      "\n",
      "Distribution Parameters:\n",
      "Temperature: mean=20.30, std=0.60\n",
      "Humidity: mean=55.24, std=5.00\n",
      "Rain λ (Poisson) - rainy events per day: 5.36\n",
      "Storm probability (Binomial) - chance of a storm occurring: 0.1\n"
     ]
    }
   ],
   "source": [
    "import pandas as pd\n",
    "import numpy as np\n",
    "\n",
    "\n",
    "# 1: Load processed Dehradun weather dataset\n",
    "df = pd.read_csv(\"dehradun_weather_processed.csv\")\n",
    "\n",
    "# Extract relevant columns\n",
    "dates = pd.to_datetime(df[\"date\"])\n",
    "temperature = df[\"temperature_celsius\"].tolist()\n",
    "humidity = df[\"humidity\"].tolist()\n",
    "wind = df[\"wind_kph\"].tolist()\n",
    "condition = df[\"condition_text\"].tolist()\n",
    "print(\"Data loaded successfully. Sample:\")\n",
    "print(df.head())\n",
    "\n",
    "# 2: Compute parameters for distributions\n",
    "mean_temp = np.mean(temperature)\n",
    "std_temp = np.std(temperature)\n",
    "mean_humidity = np.mean(humidity)\n",
    "std_humidity = np.std(humidity)\n",
    "rain_events = max(0.5, np.mean(wind))  # example λ for Poisson (rain events)\n",
    "storm_prob = 0.1  # placeholder probability of thunder/storm (Binomial)\n",
    "print(\"\\nDistribution Parameters:\")\n",
    "print(f\"Temperature: mean={mean_temp:.2f}, std={std_temp:.2f}\")\n",
    "print(f\"Humidity: mean={mean_humidity:.2f}, std={std_humidity:.2f}\")\n",
    "print(f\"Rain λ (Poisson) - rainy events per day: {rain_events:.2f}\")\n",
    "print(f\"Storm probability (Binomial) - chance of a storm occurring: {storm_prob}\")"
   ]
  },
  {
   "cell_type": "code",
   "execution_count": null,
   "id": "94fcffcd-784a-4d97-80c2-adddd7d5358a",
   "metadata": {},
   "outputs": [],
   "source": []
  }
 ],
 "metadata": {
  "kernelspec": {
   "display_name": "Python 3 (ipykernel)",
   "language": "python",
   "name": "python3"
  },
  "language_info": {
   "codemirror_mode": {
    "name": "ipython",
    "version": 3
   },
   "file_extension": ".py",
   "mimetype": "text/x-python",
   "name": "python",
   "nbconvert_exporter": "python",
   "pygments_lexer": "ipython3",
   "version": "3.13.5"
  }
 },
 "nbformat": 4,
 "nbformat_minor": 5
}
